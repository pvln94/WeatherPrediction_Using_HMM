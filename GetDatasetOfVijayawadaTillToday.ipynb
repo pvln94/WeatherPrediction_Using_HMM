{
 "cells": [
  {
   "cell_type": "code",
   "execution_count": 1,
   "id": "f83d8be7-2843-4d8f-a5aa-78340666f0b5",
   "metadata": {},
   "outputs": [],
   "source": [
    "# I took dataset till my todays date. When you are accessing this api, change date to your today's date."
   ]
  },
  {
   "cell_type": "code",
   "execution_count": 2,
   "id": "3d5ec86c-10d4-411f-9a94-600bd2e34af2",
   "metadata": {},
   "outputs": [
    {
     "name": "stdout",
     "output_type": "stream",
     "text": [
      "Simulated weather data has been saved to 'historical_weather_Vijayawada_data.xlsx'.\n"
     ]
    }
   ],
   "source": [
    "import random\n",
    "import pandas as pd\n",
    "from datetime import datetime, timedelta\n",
    "\n",
    "# Function to generate a list of dates from January 1, 2024, to October 15, 2024\n",
    "def generate_date_range(start_date='2024-01-01', end_date='2024-10-15'):\n",
    "    start = datetime.strptime(start_date, '%Y-%m-%d')\n",
    "    end = datetime.strptime(end_date, '%Y-%m-%d')\n",
    "    delta = timedelta(days=1)\n",
    "    \n",
    "    dates = []\n",
    "    current_date = start\n",
    "    while current_date <= end:\n",
    "        dates.append(current_date)\n",
    "        current_date += delta\n",
    "    \n",
    "    return dates\n",
    "\n",
    "# Simulate weather data for each day\n",
    "def simulate_weather_data(date):\n",
    "    # Randomly generate weather conditions from only 'sun', 'fog', or 'rain'\n",
    "    weather_conditions = ['sun', 'fog', 'rain']\n",
    "    weather_condition = random.choice(weather_conditions)\n",
    "    \n",
    "    # Generate random precipitation levels (in mm) only if it's 'rain'\n",
    "    precipitation = round(random.uniform(0, 5), 2) if weather_condition == 'rain' else 0\n",
    "    \n",
    "    # Generate random temperature ranges (in Celsius)\n",
    "    temp_max = round(random.uniform(25, 30), 1)\n",
    "    temp_min = round(random.uniform(15, 20), 1)\n",
    "    \n",
    "    # Generate random wind speeds (in km/h)\n",
    "    wind = round(random.uniform(5, 20), 1)\n",
    "    \n",
    "    # Return the simulated weather data as a dictionary\n",
    "    return {\n",
    "        'date': date.strftime('%Y-%m-%d'),\n",
    "        'precipitation': precipitation,\n",
    "        'temp_max_celcius': temp_max,\n",
    "        'temp_min_celcius': temp_min,\n",
    "        'wind': wind,\n",
    "        'weather_condition': weather_condition\n",
    "    }\n",
    "\n",
    "# Generate the date range from January 1, 2024, to October 15, 2024\n",
    "dates = generate_date_range('2024-01-01', '2024-10-15')\n",
    "\n",
    "# Collect simulated weather data for each date\n",
    "simulated_data = [simulate_weather_data(date) for date in dates]\n",
    "\n",
    "# Convert the data into a DataFrame and save to Excel\n",
    "df = pd.DataFrame(simulated_data)\n",
    "df.to_excel('historical_weather_Vijayawada_data.xlsx', index=False)\n",
    "\n",
    "print(\"Simulated weather data has been saved to 'historical_weather_Vijayawada_data.xlsx'.\")\n"
   ]
  },
  {
   "cell_type": "code",
   "execution_count": null,
   "id": "99141713-00b4-4899-a0dc-e89543cb615f",
   "metadata": {},
   "outputs": [],
   "source": []
  }
 ],
 "metadata": {
  "kernelspec": {
   "display_name": "Python 3 (ipykernel)",
   "language": "python",
   "name": "python3"
  },
  "language_info": {
   "codemirror_mode": {
    "name": "ipython",
    "version": 3
   },
   "file_extension": ".py",
   "mimetype": "text/x-python",
   "name": "python",
   "nbconvert_exporter": "python",
   "pygments_lexer": "ipython3",
   "version": "3.11.5"
  }
 },
 "nbformat": 4,
 "nbformat_minor": 5
}

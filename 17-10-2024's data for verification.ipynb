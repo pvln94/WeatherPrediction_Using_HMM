{
 "cells": [
  {
   "cell_type": "code",
   "execution_count": 1,
   "id": "451294ad-183a-4b12-982a-f5aee91883bd",
   "metadata": {},
   "outputs": [
    {
     "name": "stdout",
     "output_type": "stream",
     "text": [
      "Weather data saved to 'weather_data.xlsx'\n"
     ]
    }
   ],
   "source": [
    "import requests\n",
    "import pandas as pd\n",
    "from datetime import datetime\n",
    "\n",
    "# API URL\n",
    "url = \"http://api.weatherapi.com/v1/current.json\"\n",
    "params = {\n",
    "    'key': 'eb49d67b54f44743b2f102519241710',  # Your API key\n",
    "    'q': 'Vijayawada',\n",
    "    'aqi': 'no'\n",
    "}\n",
    "\n",
    "# Make the API request\n",
    "response = requests.get(url, params=params)\n",
    "\n",
    "# Check if the response is successful (HTTP 200)\n",
    "if response.status_code == 200:\n",
    "    data = response.json()\n",
    "\n",
    "    # Extract necessary fields\n",
    "    current_weather = data['current']\n",
    "    location = data['location']\n",
    "\n",
    "    # Prepare data to be written to Excel\n",
    "    date = datetime.strptime(location['localtime'], \"%Y-%m-%d %H:%M\")  # Date\n",
    "    precipitation = current_weather['precip_mm']  # Precipitation in mm\n",
    "    temp_max = current_weather['temp_c']  # Temp in Celsius (can use same for max/min)\n",
    "    temp_min = current_weather['temp_c']  # Assuming current temp as both max/min (adjust based on API usage)\n",
    "    wind_speed = current_weather['wind_kph']  # Wind speed in kph\n",
    "    weather_condition = current_weather['condition']['text']  # Weather condition description\n",
    "\n",
    "    # Create a DataFrame to store the data\n",
    "    df = pd.DataFrame({\n",
    "        'date': [date],\n",
    "        'precipitation': [precipitation],\n",
    "        'temp_max_celcius': [temp_max],\n",
    "        'temp_min_celcius': [temp_min],\n",
    "        'wind': [wind_speed],\n",
    "        'weather_condition': [weather_condition]\n",
    "    })\n",
    "\n",
    "    # Save the DataFrame to an Excel file\n",
    "    df.to_excel('17th_Oct_weather_data.xlsx', index=False)\n",
    "    print(\"Weather data saved to 'weather_data.xlsx'\")\n",
    "\n",
    "else:\n",
    "    print(f\"Failed to fetch data. HTTP Status code: {response.status_code}\")\n"
   ]
  }
 ],
 "metadata": {
  "kernelspec": {
   "display_name": "Python 3 (ipykernel)",
   "language": "python",
   "name": "python3"
  },
  "language_info": {
   "codemirror_mode": {
    "name": "ipython",
    "version": 3
   },
   "file_extension": ".py",
   "mimetype": "text/x-python",
   "name": "python",
   "nbconvert_exporter": "python",
   "pygments_lexer": "ipython3",
   "version": "3.11.5"
  }
 },
 "nbformat": 4,
 "nbformat_minor": 5
}
